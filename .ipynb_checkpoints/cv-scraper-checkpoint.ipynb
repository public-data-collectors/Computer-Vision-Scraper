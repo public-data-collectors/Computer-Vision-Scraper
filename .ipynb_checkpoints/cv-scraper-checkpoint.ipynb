{
 "cells": [
  {
   "cell_type": "markdown",
   "id": "36df394f",
   "metadata": {},
   "source": [
    "## Bibliotecas"
   ]
  },
  {
   "cell_type": "code",
   "execution_count": 22,
   "id": "6144f1bf",
   "metadata": {},
   "outputs": [],
   "source": [
    "import cv2\n",
    "import numpy as np\n",
    "import pyautogui\n",
    "import os\n",
    "import asyncio\n",
    "import time\n",
    "\n",
    "from playwright.async_api import async_playwright\n",
    "from bs4 import BeautifulSoup"
   ]
  },
  {
   "cell_type": "markdown",
   "id": "d9b425ca",
   "metadata": {},
   "source": [
    "## Carregamento da imagem do botão"
   ]
  },
  {
   "cell_type": "code",
   "execution_count": 4,
   "id": "372986a8",
   "metadata": {},
   "outputs": [
    {
     "name": "stdout",
     "output_type": "stream",
     "text": [
      "/home/arthur/F01\n"
     ]
    }
   ],
   "source": [
    "button = cv2.imread('botao.png', 0)\n",
    "\n",
    "pasta_raiz = os.getcwd()\n",
    "print(pasta_raiz)"
   ]
  },
  {
   "cell_type": "markdown",
   "id": "3a0e4e76",
   "metadata": {},
   "source": [
    "## Coletor auxiliar"
   ]
  },
  {
   "cell_type": "code",
   "execution_count": 5,
   "id": "e6ac6f7b",
   "metadata": {},
   "outputs": [],
   "source": [
    "async def coletor_html(cidade, subtag, url): \n",
    "\n",
    "    playwright = await async_playwright().start()\n",
    "    browser = await playwright.chromium.launch(headless = True)\n",
    "    page = await browser.new_page()\n",
    "    await page.goto(url)\n",
    "    conteudo = await page.content()\n",
    "\n",
    "    url_aux = url.replace(\".\", \"\")\n",
    "    url_aux = url_aux.replace(\"/\", \"\")\n",
    "    url_aux = url_aux.replace(\":\", \"\")\n",
    "    subtag = subtag.lower()\n",
    "    \n",
    "    with open(pasta_raiz+\"/\"+url_aux + \".html\", \"w\") as file:\n",
    "        file.write(conteudo)\n",
    "    file.close()\n",
    "    \n",
    "    await page.close()\n",
    "    await browser.close()"
   ]
  },
  {
   "cell_type": "markdown",
   "id": "566a802a",
   "metadata": {},
   "source": [
    "## Coletor com visão computacional"
   ]
  },
  {
   "cell_type": "code",
   "execution_count": 86,
   "id": "27e5d3df",
   "metadata": {},
   "outputs": [],
   "source": [
    "def gerar_posicao_botao(button, screenshot):\n",
    "\n",
    "    res = cv2.matchTemplate(screenshot, button, cv2.TM_SQDIFF)\n",
    "    min_val, max_val, min_loc, max_loc = cv2.minMaxLoc(res)\n",
    "    \n",
    "    return min_loc[0] + button.shape[1]//2 , min_loc[1] + button.shape[0]//2"
   ]
  },
  {
   "cell_type": "code",
   "execution_count": 85,
   "id": "d1703bfe",
   "metadata": {},
   "outputs": [],
   "source": [
    "async def coletor_geral(cidade, subtag, url, loop): \n",
    "    \n",
    "    try:\n",
    "    \n",
    "        playwright = await async_playwright().start()\n",
    "        browser = await playwright.chromium.launch(headless = False)\n",
    "        page = await browser.new_page()\n",
    "        await page.goto(url)\n",
    "        \n",
    "        await page.screenshot(path=pasta_raiz + \"/\"+ \"screen.png\")\n",
    "        screen = cv2.imread('screen.png', 0)\n",
    "        positions = gerar_posicao_botao(button, screen)\n",
    "        \n",
    "        async with page.expect_download() as download_info:\n",
    "            await page.mouse.click(positions[0], positions[1])\n",
    "            \n",
    "        download = await download_info.value\n",
    "        await download.save_as(pasta_raiz + \"/arquivo.csv\")\n",
    "        \n",
    "        await page.close()\n",
    "        await browser.close()\n",
    "        \n",
    "    except:\n",
    "        \n",
    "        loop.create_task(coletor_html(cidade, subtag, url))"
   ]
  },
  {
   "cell_type": "markdown",
   "id": "fc49354e",
   "metadata": {},
   "source": [
    "## Execução"
   ]
  },
  {
   "cell_type": "code",
   "execution_count": 87,
   "id": "48389e1d",
   "metadata": {
    "scrolled": true
   },
   "outputs": [
    {
     "data": {
      "text/plain": [
       "<Task pending name='Task-169' coro=<coletor_geral() running at /tmp/ipykernel_190685/320079238.py:1>>"
      ]
     },
     "execution_count": 87,
     "metadata": {},
     "output_type": "execute_result"
    },
    {
     "name": "stdout",
     "output_type": "stream",
     "text": [
      "(581, 283)\n",
      "-1\n",
      "0\n",
      "1\n",
      "2\n",
      "3\n"
     ]
    }
   ],
   "source": [
    "loop = asyncio.get_event_loop()\n",
    "loop.create_task(coletor_geral(\"Novo Oriente de Minas\", \"liquidacoes\", \"https://itabirinha.mg.gov.br/transparencia/pagamentos\", loop))"
   ]
  },
  {
   "cell_type": "code",
   "execution_count": null,
   "id": "19dba33e",
   "metadata": {},
   "outputs": [],
   "source": []
  }
 ],
 "metadata": {
  "kernelspec": {
   "display_name": "Python 3 (ipykernel)",
   "language": "python",
   "name": "python3"
  },
  "language_info": {
   "codemirror_mode": {
    "name": "ipython",
    "version": 3
   },
   "file_extension": ".py",
   "mimetype": "text/x-python",
   "name": "python",
   "nbconvert_exporter": "python",
   "pygments_lexer": "ipython3",
   "version": "3.12.3"
  }
 },
 "nbformat": 4,
 "nbformat_minor": 5
}
